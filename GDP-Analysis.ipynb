{
  "cells": [
    {
      "cell_type": "markdown",
      "metadata": {
        "_uuid": "abb67418eb83a59115d8e4633c3b546513e6d44d",
        "id": "8P_DEmki0Fxm"
      },
      "source": [
        "# Content\n",
        "- <a href='#1'>1. Introduction</a>\n",
        "- <a href='#2'>2. Load Libraries</a>\n",
        "- <a href='#3'>3. Overview Of The Table</a>\n",
        "- <a href='#4'>4. Data Preparation</a>\n",
        "- <a href='#5'>5. Data Exploration</a>\n",
        "    - <a href='#5-1'>5.1 Top countries With Highest GDP</a>\n",
        "    - <a href='#5-2'>5.2 Correlation Between Variables</a>\n",
        "    - <a href='#5-3'>5.3 Top Factors Affecting GDP</a>\n",
        "    - <a href='#5-4'>5.4 Countries With Low Birthrate & Low GDP</a>\n",
        "- <a href='#6'>6. Modeling</a>\n",
        "    - <a href='#6-1'>6.1 Training & Testing</a>\n",
        "    - <a href='#6-2'>6.2 Visualization Of Results</a>\n",
        "- <a href='#7'>7. Total GDP</a>\n",
        "    - <a href='#7-1'>7.1 Top Countires</a>\n",
        "    - <a href='#7-1'>7.2 Factors Affecting Total GDP</a>\n",
        "    - <a href='#7-2'>7.3 Comparison Of The Top 10</a>\n",
        "- <a href='#8'>8. References</a>"
      ]
    },
    {
      "cell_type": "markdown",
      "metadata": {
        "_uuid": "5e354a858d5bf24a9ae2eb772e20c12760071ba4",
        "id": "WeqTc9-80Fxr"
      },
      "source": [
        "# <a id='1'>1. Introduction</a>\n",
        "In this project, I am investigating the dataset containing information on population, region, area size, mortality and more of 227 countries. I will be focusing on the factors that affecting a country's GDP per capita and try to make a model using the data of 227 countries from the dataset. I will also briefly discuss the total GDPs. For me, this is to practice my data science & visualization skills, if you have any suggestion on how to make more extensive analysis please kindly let me know, Any feedback is greatly appreciated!"
      ]
    },
    {
      "cell_type": "markdown",
      "metadata": {
        "_uuid": "30631c7719ea5774dedda6c5f877033d714eefae",
        "id": "2Mj46puk0Fxr"
      },
      "source": [
        "# <a id='2'>2. Load Libraries</a>"
      ]
    },
    {
      "cell_type": "code",
      "execution_count": 1,
      "metadata": {
        "_cell_guid": "b1076dfc-b9ad-4769-8c92-a6c4dae69d19",
        "_kg_hide-input": true,
        "_uuid": "8f2839f25d086af736a60e9eeb907d3b93b6e0e5",
        "id": "IziMWdN30Fxs",
        "outputId": "4958ddf8-912a-4bb6-9a9c-b7744769139a",
        "colab": {
          "base_uri": "https://localhost:8080/",
          "height": 176
        }
      },
      "outputs": [
        {
          "output_type": "error",
          "ename": "FileNotFoundError",
          "evalue": "[Errno 2] No such file or directory: './Datasets'",
          "traceback": [
            "\u001b[0;31m---------------------------------------------------------------------------\u001b[0m",
            "\u001b[0;31mFileNotFoundError\u001b[0m                         Traceback (most recent call last)",
            "\u001b[0;32m<ipython-input-1-d8637ce6e0ee>\u001b[0m in \u001b[0;36m<cell line: 0>\u001b[0;34m()\u001b[0m\n\u001b[1;32m     11\u001b[0m \u001b[0;34m\u001b[0m\u001b[0m\n\u001b[1;32m     12\u001b[0m \u001b[0;32mimport\u001b[0m \u001b[0mos\u001b[0m\u001b[0;34m\u001b[0m\u001b[0;34m\u001b[0m\u001b[0m\n\u001b[0;32m---> 13\u001b[0;31m \u001b[0mprint\u001b[0m\u001b[0;34m(\u001b[0m\u001b[0mos\u001b[0m\u001b[0;34m.\u001b[0m\u001b[0mlistdir\u001b[0m\u001b[0;34m(\u001b[0m\u001b[0;34m\"./Datasets\"\u001b[0m\u001b[0;34m)\u001b[0m\u001b[0;34m)\u001b[0m\u001b[0;34m\u001b[0m\u001b[0;34m\u001b[0m\u001b[0m\n\u001b[0m",
            "\u001b[0;31mFileNotFoundError\u001b[0m: [Errno 2] No such file or directory: './Datasets'"
          ]
        }
      ],
      "source": [
        "import numpy as np # for linear algebra\n",
        "import pandas as pd # for data processing, csv io\n",
        "from matplotlib import pyplot as plt # data plots\n",
        "import seaborn as sns # pretty data plots\n",
        "sns.set()\n",
        "\n",
        "from sklearn.preprocessing import LabelEncoder # for label normalization\n",
        "from sklearn.model_selection import train_test_split # for splitting data into train and test subsets\n",
        "from sklearn.linear_model import LinearRegression # for using Linear Regression model\n",
        "from sklearn.metrics import mean_squared_error, mean_squared_log_error\n",
        "\n",
        "import os\n",
        "print(os.listdir(\"./Datasets\"))"
      ]
    },
    {
      "cell_type": "markdown",
      "metadata": {
        "_uuid": "33366c10eec8fadfd1673d2a5c134d5d46086d3f",
        "id": "qxeXPqLw0Fxx"
      },
      "source": [
        "# <a id='3'>3. Overview Of The Table</a>"
      ]
    },
    {
      "cell_type": "code",
      "execution_count": null,
      "metadata": {
        "_cell_guid": "79c7e3d0-c299-4dcb-8224-4455121ee9b0",
        "_uuid": "d629ff2d2480ee46fbb7e2d37f6b5fab8052498a",
        "id": "YZLvHGUD0Fxx"
      },
      "outputs": [],
      "source": [
        "data = pd.read_csv('./Datasets/Countries-GDP-Data.csv',decimal=',')\n",
        "print('Number of missing data:')\n",
        "print(data.isnull().sum())\n",
        "data.describe(include='all')"
      ]
    },
    {
      "cell_type": "markdown",
      "metadata": {
        "_uuid": "855964e4ce42c7adf3c9647e86ff8088753b8869",
        "id": "W_fB1c3C0Fxy"
      },
      "source": [
        "# <a id='4'>4. Data Preparation</a>\n",
        "I noticed that there are some missing data in the table. For simplicity, I will just fill the missing data using the median of the region that a country belongs, as countries that are close geologically are often similar in many ways. For example, lets check the region median of 'GDP ($ per capita)', 'Literacy (%)' and 'Agriculture'. Note that for 'climate' we use the mode instead of median as it seems that 'climate' is a categorical feature here."
      ]
    },
    {
      "cell_type": "code",
      "execution_count": null,
      "metadata": {
        "_uuid": "b558a183c860ad5164d27207128ffcd1f0f5fe1b",
        "id": "nKDkFrH90Fxy"
      },
      "outputs": [],
      "source": [
        "data.groupby('Region')[['GDP ($ per capita)','Literacy (%)','Agriculture']].median()"
      ]
    },
    {
      "cell_type": "code",
      "execution_count": null,
      "metadata": {
        "_kg_hide-input": false,
        "_kg_hide-output": false,
        "_uuid": "a6cd77af154e29dc24d5a73ce085fd5b1cac0cb5",
        "id": "l8GWTku10Fxy"
      },
      "outputs": [],
      "source": [
        "# Fill up missing values\n",
        "for col in data.columns.values:\n",
        "    if data[col].isnull().sum() == 0:\n",
        "        continue\n",
        "    if col == 'Climate':\n",
        "        guess_values = data.groupby('Region')['Climate'].apply(lambda x: x.mode().max())\n",
        "    else:\n",
        "        guess_values = data.groupby('Region')[col].median()\n",
        "    for region in data['Region'].unique():\n",
        "        data[col].loc[(data[col].isnull())&(data['Region']==region)] = guess_values[region]"
      ]
    },
    {
      "cell_type": "markdown",
      "metadata": {
        "_uuid": "4bbd0de512ba3ef1912c27006567f55b93584813",
        "id": "9RaYpJKp0Fxz"
      },
      "source": [
        "# <a id='5'>5. Data Exploration</a>"
      ]
    },
    {
      "cell_type": "markdown",
      "metadata": {
        "_uuid": "d8db674c45e2877f6378a52a778426b73c9bb5d3",
        "id": "ziISghcN0Fxz"
      },
      "source": [
        "<a id='5-1'>5.1 Top Countries With Highest GDP</a>\n",
        "\n",
        "Look at the top 20 countries with highest GDP per capita. Luxembourg is quite ahead, the next 19 countries are close to each other. Germany, the 20th has about 2.5 times GDP per capita of the world average."
      ]
    },
    {
      "cell_type": "code",
      "execution_count": null,
      "metadata": {
        "_kg_hide-input": true,
        "_uuid": "b2703b65c9d45002ed5893ac9bad36164e5c9ae5",
        "id": "mt6qwIZ30Fxz"
      },
      "outputs": [],
      "source": [
        "fig, ax = plt.subplots(figsize=(16,6))\n",
        "#ax = fig.add_subplot(111)\n",
        "top_gdp_countries = data.sort_values('GDP ($ per capita)',ascending=False).head(20)\n",
        "mean = pd.DataFrame({'Country':['World mean'], 'GDP ($ per capita)':[data['GDP ($ per capita)'].mean()]})\n",
        "gdps = pd.concat([top_gdp_countries[['Country','GDP ($ per capita)']],mean],ignore_index=True)\n",
        "\n",
        "sns.barplot(x='Country',y='GDP ($ per capita)',data=gdps, palette='Set3')\n",
        "ax.set_xlabel(ax.get_xlabel(),labelpad=15)\n",
        "ax.set_ylabel(ax.get_ylabel(),labelpad=30)\n",
        "ax.xaxis.label.set_fontsize(16)\n",
        "ax.yaxis.label.set_fontsize(16)\n",
        "plt.xticks(rotation=90)\n",
        "plt.show()"
      ]
    },
    {
      "cell_type": "markdown",
      "metadata": {
        "_uuid": "9df0e657e06fe02639e9c3d89b05cc68ac188a37",
        "id": "0sFXi1qE0Fx0"
      },
      "source": [
        "<a id='5-2'>5.2 Correlation between variables</a>\n",
        "\n",
        "The heatmap shows the correlation between all numerical columns."
      ]
    },
    {
      "cell_type": "code",
      "execution_count": null,
      "metadata": {
        "_kg_hide-input": true,
        "_uuid": "d6ada80d5f377345c9aa41c413cb93ff1b205b59",
        "id": "gOd5BNS90Fx0"
      },
      "outputs": [],
      "source": [
        "plt.figure(figsize=(16,12))\n",
        "sns.heatmap(data=data.iloc[:,2:].corr(),annot=True,fmt='.2f',cmap='coolwarm')\n",
        "plt.show()"
      ]
    },
    {
      "cell_type": "markdown",
      "metadata": {
        "_uuid": "6a02ce0db1c8e27616a88c405cf5faed9555f3d8",
        "id": "x8icFSWO0Fx1"
      },
      "source": [
        "<a id='5-2'>5.4 Top Factors Affecting GDP</a>\n",
        "\n",
        "We pick the six columns that mostly correlated to GDP per capita and make scatter plots. The results agree with our common sense. Also we notice there are many countries with low average GDP and few with high average GDP ---- a pyramid structure."
      ]
    },
    {
      "cell_type": "code",
      "execution_count": null,
      "metadata": {
        "_kg_hide-input": true,
        "_uuid": "a41412c9d799735530ca23c3ea0a05d24ea28977",
        "id": "nB99ogY60Fx1"
      },
      "outputs": [],
      "source": [
        "fig, axes = plt.subplots(nrows=2, ncols=3, figsize=(20,12))\n",
        "plt.subplots_adjust(hspace=0.4)\n",
        "\n",
        "corr_to_gdp = pd.Series()\n",
        "for col in data.columns.values[2:]:\n",
        "    if ((col!='GDP ($ per capita)')&(col!='Climate')):\n",
        "        corr_to_gdp[col] = data['GDP ($ per capita)'].corr(data[col])\n",
        "abs_corr_to_gdp = corr_to_gdp.abs().sort_values(ascending=False)\n",
        "corr_to_gdp = corr_to_gdp.loc[abs_corr_to_gdp.index]\n",
        "\n",
        "for i in range(2):\n",
        "    for j in range(3):\n",
        "        sns.regplot(x=corr_to_gdp.index.values[i*3+j], y='GDP ($ per capita)', data=data,\n",
        "                   ax=axes[i,j], fit_reg=False, marker='.')\n",
        "        title = 'correlation='+str(corr_to_gdp[i*3+j])\n",
        "        axes[i,j].set_title(title)\n",
        "axes[1,2].set_xlim(0,102)\n",
        "plt.show()"
      ]
    },
    {
      "cell_type": "markdown",
      "metadata": {
        "_uuid": "84449da7c7474c569c8cbfd327d5e82d4cb6f317",
        "id": "fgu2qiT50Fx2"
      },
      "source": [
        "<a id='5-5'> 5.5 Countries With Low Birthrate & Low GDP</a>\n",
        "\n",
        "Some features, like phones, are related to the average GDP more linearly, while others are not. For example, High birthrate usually means low GDP per capita, but average GDP in low birthrate countries can vary a lot.\n",
        "\n",
        "Let's look at the countries with low birthrate (<14%) and low GDP per capita (<10000 $). They also have hight literacy, like other high average GDP countires. But we hope their other features can help distiguish them from those with low birthrate but high average GDPs, like service are not quite an importent portion in their economy, not a lot phone procession, some have negative net migration... And many of them are from eastern Europe or C.W. of IND. STATES, so the 'region' feature may also be useful."
      ]
    },
    {
      "cell_type": "code",
      "execution_count": null,
      "metadata": {
        "_uuid": "5501eef3118ae86e0b56166571fe805938d88d41",
        "id": "DFzBrqeA0Fx2"
      },
      "outputs": [],
      "source": [
        "data.loc[(data['Birthrate']<14)&(data['GDP ($ per capita)']<10000)]"
      ]
    },
    {
      "cell_type": "markdown",
      "metadata": {
        "_uuid": "690d27ba964ce58db9ed88e8cbf1bff2c9ee6673",
        "id": "jz7RQtaY0Fx3"
      },
      "source": [
        "# <a id='6'>6. Modeling</a>"
      ]
    },
    {
      "cell_type": "markdown",
      "metadata": {
        "_uuid": "71909a2feaa5afaed51c55e1636fe03a210a2f5a",
        "id": "CmMSC4Km0Fx3"
      },
      "source": [
        "<a id='6-1'> 6.1 Training & Testing </a>\n",
        "\n",
        "First label encode the categorical features 'Region' and 'Climate', and I will just use all features given in the dataset without further feature engineering."
      ]
    },
    {
      "cell_type": "code",
      "execution_count": null,
      "metadata": {
        "_uuid": "a1c782fb8335b7ff005967d8047e4b7b08fb34a9",
        "id": "7NnWKmgf0Fx4"
      },
      "outputs": [],
      "source": [
        "LE = LabelEncoder()\n",
        "data['Region_label'] = LE.fit_transform(data['Region'])\n",
        "data['Climate_label'] = LE.fit_transform(data['Climate'])\n",
        "data.head()"
      ]
    },
    {
      "cell_type": "code",
      "execution_count": null,
      "metadata": {
        "_uuid": "3ccee1f7dc24ba555b97f6ba7c01440b481857dc",
        "id": "l_uradTz0Fx5"
      },
      "outputs": [],
      "source": [
        "train, test = train_test_split(data, test_size=0.3, shuffle=True)\n",
        "training_features = ['Population', 'Area (sq. mi.)',\n",
        "       'Pop. Density (per sq. mi.)', 'Coastline (coast/area ratio)',\n",
        "       'Net migration', 'Infant mortality (per 1000 births)',\n",
        "       'Literacy (%)', 'Phones (per 1000)',\n",
        "       'Arable (%)', 'Crops (%)', 'Other (%)', 'Birthrate',\n",
        "       'Deathrate', 'Agriculture', 'Industry', 'Service', 'Region_label',\n",
        "       'Climate_label','Service']\n",
        "target = 'GDP ($ per capita)'\n",
        "train_X = train[training_features]\n",
        "train_Y = train[target]\n",
        "test_X = test[training_features]\n",
        "test_Y = test[target]"
      ]
    },
    {
      "cell_type": "markdown",
      "metadata": {
        "_uuid": "0e7f06f9e82e7600bbc28dc339f1cc276c45c846",
        "id": "S0fawbRz0Fx5"
      },
      "source": [
        "I am using the linear regression model here. As for metric, I will check both root mean squared error and mean squared log error."
      ]
    },
    {
      "cell_type": "code",
      "execution_count": null,
      "metadata": {
        "_uuid": "1a308e9b79cf378600ff511bfa44845ce6c24ab8",
        "id": "aVear5u70Fx6"
      },
      "outputs": [],
      "source": [
        "model = LinearRegression()\n",
        "model.fit(train_X, train_Y)\n",
        "train_pred_Y = model.predict(train_X)\n",
        "test_pred_Y = model.predict(test_X)\n",
        "train_pred_Y = pd.Series(train_pred_Y.clip(0, train_pred_Y.max()), index=train_Y.index)\n",
        "test_pred_Y = pd.Series(test_pred_Y.clip(0, test_pred_Y.max()), index=test_Y.index)\n",
        "\n",
        "rmse_train = np.sqrt(mean_squared_error(train_pred_Y, train_Y))\n",
        "msle_train = mean_squared_log_error(train_pred_Y, train_Y)\n",
        "rmse_test = np.sqrt(mean_squared_error(test_pred_Y, test_Y))\n",
        "msle_test = mean_squared_log_error(test_pred_Y, test_Y)\n",
        "\n",
        "print('rmse_train:',rmse_train,'msle_train:',msle_train)\n",
        "print('rmse_test:',rmse_test,'msle_test:',msle_test)"
      ]
    },
    {
      "cell_type": "markdown",
      "metadata": {
        "_uuid": "adc4c89ff49d721418352befffd54336bf862f3f",
        "id": "dH4H3ZrE0Fx7"
      },
      "source": [
        "<a id='6-2'> 6.2 Visualization Of Results </a>\n",
        "\n",
        "To see how the model is doing, we can make scatter plot of prediction against ground truth. The model gives a resonable prediction, as the data points are gathering around the line y=x."
      ]
    },
    {
      "cell_type": "code",
      "execution_count": null,
      "metadata": {
        "_kg_hide-input": true,
        "_uuid": "f1d49f26e8804e85765011584a67572ac7fdbf35",
        "id": "ZQI2j8oG0Fx7"
      },
      "outputs": [],
      "source": [
        "plt.figure(figsize=(18,12))\n",
        "\n",
        "train_test_Y = train_Y.append(test_Y)\n",
        "train_test_pred_Y = train_pred_Y.append(test_pred_Y)\n",
        "\n",
        "data_shuffled = data.loc[train_test_Y.index]\n",
        "label = data_shuffled['Country']\n",
        "\n",
        "colors = {'ASIA (EX. NEAR EAST)         '      :'red',\n",
        "          'EASTERN EUROPE                     ':'orange',\n",
        "          'NORTHERN AFRICA                    ':'gold',\n",
        "          'OCEANIA                            ':'green',\n",
        "          'WESTERN EUROPE                     ':'blue',\n",
        "          'SUB-SAHARAN AFRICA                 ':'purple',\n",
        "          'LATIN AMER. & CARIB                ':'olive',\n",
        "          'C.W. OF IND. STATES                ':'cyan',\n",
        "          'NEAR EAST                          ':'hotpink',\n",
        "          'NORTHERN AMERICA                   ':'lightseagreen',\n",
        "          'BALTICS                            ':'rosybrown'}\n",
        "\n",
        "for region, color in colors.items():\n",
        "    X = train_test_Y.loc[data_shuffled['Region']==region]\n",
        "    Y = train_test_pred_Y.loc[data_shuffled['Region']==region]\n",
        "    ax = sns.regplot(x=X, y=Y, marker='.', fit_reg=False, color=color, scatter_kws={'s':200, 'linewidths':0}, label=region)\n",
        "plt.legend(loc=4,prop={'size': 12})\n",
        "\n",
        "ax.set_xlabel('GDP ($ per capita) ground truth',labelpad=40)\n",
        "ax.set_ylabel('GDP ($ per capita) predicted',labelpad=40)\n",
        "ax.xaxis.label.set_fontsize(24)\n",
        "ax.yaxis.label.set_fontsize(24)\n",
        "ax.tick_params(labelsize=12)\n",
        "\n",
        "x = np.linspace(-1000,50000,100) # 100 linearly spaced numbers\n",
        "y = x\n",
        "plt.plot(x,y,c='gray')\n",
        "\n",
        "plt.xlim(-1000,60000)\n",
        "plt.ylim(-1000,40000)\n",
        "\n",
        "for i in range(0,train_test_Y.shape[0]):\n",
        "    if((data_shuffled['Area (sq. mi.)'].iloc[i]>8e5) |\n",
        "       (data_shuffled['Population'].iloc[i]>1e8) |\n",
        "       (data_shuffled['GDP ($ per capita)'].iloc[i]>10000)):\n",
        "        plt.text(train_test_Y.iloc[i]+200, train_test_pred_Y.iloc[i]-200, label.iloc[i], size='small')"
      ]
    },
    {
      "cell_type": "markdown",
      "metadata": {
        "_uuid": "631fd74f93089c59b6dae6d63c6c95102e460c3f",
        "id": "SrJP4tXs0Fx8"
      },
      "source": [
        "# <a id='7'>7. Total GDP</a>"
      ]
    },
    {
      "cell_type": "markdown",
      "metadata": {
        "_uuid": "91d9cf1d08c8322d6ac767eed04ff9c7d35e8981",
        "id": "in3JshIq0Fx9"
      },
      "source": [
        "<a id='7-1'>7.1 Top Countries</a>\n",
        "\n",
        "It is also interesting to look at the total GDPs, which I take as 'GDP ($ per capita)' × 'Population'.\n",
        "\n",
        "Here are the top 10 countries with highest total GDPs, their GDP make up to about 2/3 of the global GDP."
      ]
    },
    {
      "cell_type": "code",
      "execution_count": null,
      "metadata": {
        "_kg_hide-input": true,
        "_uuid": "624b235fb8d6cca3bf332f6122dca186021b1a99",
        "id": "OHblP_hC0Fx9"
      },
      "outputs": [],
      "source": [
        "data['Total_GDP ($)'] = data['GDP ($ per capita)'] * data['Population']\n",
        "#plt.figure(figsize=(16,6))\n",
        "top_gdp_countries = data.sort_values('Total_GDP ($)',ascending=False).head(10)\n",
        "other = pd.DataFrame({'Country':['Other'], 'Total_GDP ($)':[data['Total_GDP ($)'].sum() - top_gdp_countries['Total_GDP ($)'].sum()]})\n",
        "gdps = pd.concat([top_gdp_countries[['Country','Total_GDP ($)']],other],ignore_index=True)\n",
        "\n",
        "fig, axes = plt.subplots(nrows=1, ncols=2, figsize=(20,7),gridspec_kw = {'width_ratios':[2,1]})\n",
        "sns.barplot(x='Country',y='Total_GDP ($)',data=gdps,ax=axes[0],palette='Set3')\n",
        "axes[0].set_xlabel('Country',labelpad=30,fontsize=16)\n",
        "axes[0].set_ylabel('Total_GDP',labelpad=30,fontsize=16)\n",
        "\n",
        "colors = sns.color_palette(\"Set3\", gdps.shape[0]).as_hex()\n",
        "axes[1].pie(gdps['Total_GDP ($)'], labels=gdps['Country'],colors=colors,autopct='%1.1f%%',shadow=True)\n",
        "axes[1].axis('equal')\n",
        "plt.show()"
      ]
    },
    {
      "cell_type": "markdown",
      "metadata": {
        "_uuid": "9b7882a453e8cacba465929a7d7e444b884bb1b1",
        "id": "hUg3PkJf0Fx-"
      },
      "source": [
        "Let's compare the above ten countries' rank in total GDP and GDP per capita."
      ]
    },
    {
      "cell_type": "code",
      "execution_count": null,
      "metadata": {
        "_kg_hide-input": true,
        "_uuid": "af0919cb1dbefca757f9271d6cc393d49a7d5bff",
        "id": "1Bp_JDZG0Fx_"
      },
      "outputs": [],
      "source": [
        "Rank1 = data[['Country','Total_GDP ($)']].sort_values('Total_GDP ($)', ascending=False).reset_index()\n",
        "Rank2 = data[['Country','GDP ($ per capita)']].sort_values('GDP ($ per capita)', ascending=False).reset_index()\n",
        "Rank1 = pd.Series(Rank1.index.values+1, index=Rank1.Country)\n",
        "Rank2 = pd.Series(Rank2.index.values+1, index=Rank2.Country)\n",
        "Rank_change = (Rank2-Rank1).sort_values(ascending=False)\n",
        "print('rank of total GDP - rank of GDP per capita:')\n",
        "Rank_change.loc[top_gdp_countries.Country]"
      ]
    },
    {
      "cell_type": "markdown",
      "metadata": {
        "_uuid": "5b7276e6f434ec2fd67515e1b3bcf33f66ba9936",
        "id": "kpvtYn320FyB"
      },
      "source": [
        "We see the countries with high total GDPs are quite different from those with high average GDPs.\n",
        "\n",
        "China and India jump above a lot when it comes to the total GDP.\n",
        "\n",
        "The only country that is with in top 10 (in fact top 2) for both total and average GDPs is the United States."
      ]
    },
    {
      "cell_type": "markdown",
      "metadata": {
        "_uuid": "f7e9542d89e624aa15e4ec57c72c90e133eb76d6",
        "id": "orhT-XfW0FyB"
      },
      "source": [
        "<a id='7-2'>7.2 Factors Affecting Total GDP</a>\n",
        "\n",
        "We can also check the correlation between total GDP and the other columns. The top two factors are population and area, following many factors that have also been found mostly correlated to GDP per capita."
      ]
    },
    {
      "cell_type": "code",
      "execution_count": null,
      "metadata": {
        "_kg_hide-input": true,
        "_uuid": "99f27379d385a36fc6683cbaf70ef9976b020a9c",
        "id": "pg_l22-30FyB"
      },
      "outputs": [],
      "source": [
        "corr_to_gdp = pd.Series()\n",
        "for col in data.columns.values[2:]:\n",
        "    if ((col!='Total_GDP ($)')&(col!='Climate')&(col!='GDP ($ per capita)')):\n",
        "        corr_to_gdp[col] = data['Total_GDP ($)'].corr(data[col])\n",
        "abs_corr_to_gdp = corr_to_gdp.abs().sort_values(ascending=False)\n",
        "corr_to_gdp = corr_to_gdp.loc[abs_corr_to_gdp.index]\n",
        "print(corr_to_gdp)"
      ]
    },
    {
      "cell_type": "markdown",
      "metadata": {
        "_uuid": "460d1ec77b901105049e517b4335df72d51872a5",
        "id": "V_cLkkZR0FyC"
      },
      "source": [
        "<a id='7-3'>7.3 Comparision Of The Top 10</a>\n",
        "\n",
        "Finally, let us do a comparison of the enconomy structure for the ten countries with hightest total GDP."
      ]
    },
    {
      "cell_type": "code",
      "execution_count": null,
      "metadata": {
        "_kg_hide-input": true,
        "_uuid": "32a50af19bca2c49da550797abbfaf37f760bd4d",
        "id": "p2W7P3xN0FyC"
      },
      "outputs": [],
      "source": [
        "plot_data = top_gdp_countries.head(10)[['Country','Agriculture', 'Industry', 'Service']]\n",
        "plot_data = plot_data.set_index('Country')\n",
        "ax = plot_data.plot.bar(stacked=True,figsize=(10,6))\n",
        "ax.legend(bbox_to_anchor=(1, 1))\n",
        "plt.show()"
      ]
    },
    {
      "cell_type": "markdown",
      "metadata": {
        "_uuid": "03ba540d418266f6a4153b87b84f585dc8e5583d",
        "id": "wzkQ8Nlp0FyD"
      },
      "source": [
        "As well as their land usage:"
      ]
    },
    {
      "cell_type": "code",
      "execution_count": null,
      "metadata": {
        "_kg_hide-input": true,
        "_uuid": "2681826258c429fd78c9b5afccdb780edd9189da",
        "id": "_GoXAOdl0FyD"
      },
      "outputs": [],
      "source": [
        "plot_data = top_gdp_countries[['Country','Arable (%)', 'Crops (%)', 'Other (%)']]\n",
        "plot_data = plot_data.set_index('Country')\n",
        "ax = plot_data.plot.bar(stacked=True,figsize=(10,6))\n",
        "ax.legend(bbox_to_anchor=(1, 1))\n",
        "plt.show()"
      ]
    },
    {
      "cell_type": "markdown",
      "metadata": {
        "id": "rdtl-SUZ0FyE"
      },
      "source": [
        "<a id='8'>8. References</a>\n",
        "<ul>\n",
        "  <li><a href='https://docs.scipy.org/doc/numpy/'>Numpy</a></li>\n",
        "  <li><a href='https://pandas.pydata.org/'>Pandas</a></li>\n",
        "  <li><a href='https://matplotlib.org/'>Matplotlib</a></li>\n",
        "  <li><a href='https://seaborn.pydata.org/'>Seaborn</a></li>\n",
        "  <li><a href='https://scikit-learn.org'>Scikit-Learn</a></li>\n",
        "</ul>"
      ]
    }
  ],
  "metadata": {
    "kernelspec": {
      "display_name": "Python 3",
      "language": "python",
      "name": "python3"
    },
    "language_info": {
      "codemirror_mode": {
        "name": "ipython",
        "version": 3
      },
      "file_extension": ".py",
      "mimetype": "text/x-python",
      "name": "python",
      "nbconvert_exporter": "python",
      "pygments_lexer": "ipython3",
      "version": "3.7.4"
    },
    "colab": {
      "provenance": []
    }
  },
  "nbformat": 4,
  "nbformat_minor": 0
}